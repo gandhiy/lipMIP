{
 "cells": [
  {
   "cell_type": "markdown",
   "metadata": {},
   "source": [
    "# Tutorial 3: Other Methods\n",
    "In this tutorial, we'll describe how to incorporate other Lipschitz estimation techniques into our codebase. For each method, we try to use the official codebase attached to the papers. We simply built an interface on top of each of these to be more amenable to our system. The methods we consider are:\n",
    "* **CLEVER**: Uses randomly sampled points and extremal value theory to generate an heuristic Lipschitz estimate([github](https://github.com/IBM/CLEVER-Robustness-Score)). \n",
    "* **FastLip**: Uses the hyperbox and boolean hyperbox abstract domains to efficiently generate an upper bound to the Lipschitz constant ([github](https://github.com/huanzhang12/CertifiedReLURobustness)).\n",
    "* **LipLP**: The naive linear programming relaxation to LipMIP\n",
    "* **LipSDP**: Uses incremental quadratic constraints and semidefinite programming to generate a global upper bound of Lipschitz constants in the $\\ell_2$ setting ([github](https://github.com/arobey1/LipSDP)).\n",
    "* **SeqLip**: Frames Lipschitz estimation as a combinatorial optimization problem and uses greedy methods to generate a heuristic Lipschitz estimate ([github](https://github.com/avirmaux/lipEstimation)).\n",
    "* **RandomLB**: Randomly samples points and takes their maximal gradient norm. This is like CLEVER, but doesn't use the extremal value theory step, and thereby provides a certifiable lower bound.\n",
    "* **NaiveUB**: Multiplies the operator norm of each component of a ReLU network together to yield an extremely loose upper bound.\n",
    "\n",
    "Note that LipSDP uses the Mosek plugin for matlab to solve SDP's. Follow the instructions in their github to install these dependencies."
   ]
  },
  {
   "cell_type": "code",
   "execution_count": 33,
   "metadata": {},
   "outputs": [],
   "source": [
    "# Imports\n",
    "import matlab.engine\n",
    "\n",
    "import sys\n",
    "sys.path.append('..')\n",
    "import torch \n",
    "from pprint import pprint \n",
    "\n",
    "import utilities as utils\n",
    "from relu_nets import ReLUNet\n",
    "from hyperbox import Hyperbox \n",
    "from lipMIP import LipMIP\n",
    "from other_methods import CLEVER, FastLip, LipLP, LipSDP, NaiveUB, RandomLB, SeqLip\n",
    "import experiment as exp "
   ]
  },
  {
   "cell_type": "markdown",
   "metadata": {},
   "source": [
    "# 1: Individual Methods\n",
    "The interface to run each method is identical, and all inherit a generic `OtherResult` class (except for LipMIP). We demonstrate how to run each method here.\n",
    "\n",
    "Many methods have variants and hyperparameters that can be tuned. We incorporate these as kwargs and can tune them in our repository, but leave them mostly as default from their original codebases."
   ]
  },
  {
   "cell_type": "code",
   "execution_count": 23,
   "metadata": {},
   "outputs": [],
   "source": [
    "# Basic network example \n",
    "test_network = ReLUNet([2, 16, 16, 2])\n",
    "test_domain = Hyperbox.build_unit_hypercube(2)\n",
    "primal_norm = 'linf'\n",
    "c_vector = torch.Tensor([1.0, -1.0])"
   ]
  },
  {
   "cell_type": "code",
   "execution_count": 24,
   "metadata": {},
   "outputs": [
    {
     "name": "stdout",
     "output_type": "stream",
     "text": [
      "Lipschitz estimate (as a float) is: 0.2372237592935562\n",
      "test_clever holds the value (0.237224), and compute_time (1.945315 s)\n"
     ]
    }
   ],
   "source": [
    "# CLEVER (the first one alphabetically, so we'll use this as an example)\n",
    "test_clever = CLEVER(test_network, c_vector, test_domain, primal_norm) # builds a CLEVER instance\n",
    "clever_out = test_clever.compute() # executes CLEVER \n",
    "# Let's examine the output of CLEVER for a moment\n",
    "print('Lipschitz estimate (as a float) is:', clever_out)\n",
    "\n",
    "# We also store these attributes in the test_clever object (of class CLEVER)\n",
    "print('test_clever holds the value (%f), and compute_time (%f s)' % (test_clever.value, test_clever.compute_time))\n"
   ]
  },
  {
   "cell_type": "code",
   "execution_count": 25,
   "metadata": {},
   "outputs": [
    {
     "name": "stdout",
     "output_type": "stream",
     "text": [
      "CLEVER ran in 1.81 seconds and has value 0.2372\n",
      "FastLip ran in 0.00 seconds and has value 1.6836\n",
      "LipLP ran in 0.01 seconds and has value 1.6212\n",
      "LipSDP ran in 5.93 seconds and has value 0.6141\n",
      "NaiveUB ran in 0.00 seconds and has value 6.7531\n",
      "RandomLB ran in 0.42 seconds and has value 0.2372\n",
      "SeqLip ran in 0.01 seconds and has value 0.9520\n"
     ]
    }
   ],
   "source": [
    "# Evaluating all the methods (using the same interface)\n",
    "for other_method in [CLEVER, FastLip, LipLP, LipSDP, NaiveUB, RandomLB, SeqLip]:\n",
    "    test_object = other_method(test_network, c_vector, domain=test_domain, primal_norm=primal_norm)\n",
    "    test_object.compute()\n",
    "    print(other_method.__name__ + ' ran in %.02f seconds and has value %.04f' % \n",
    "          (test_object.compute_time, test_object.value))\n",
    "\n",
    "# CAVEAT! Some methods, such as LipSDP output an l2-lipschitz value, which needs to be scaled according to dimension"
   ]
  },
  {
   "cell_type": "markdown",
   "metadata": {},
   "source": [
    "# 2: The `Experiment` class\n",
    "As a convenient and flexible shorthand to evaluate lipschitz constants of various networks under various settings, we built the `Experiment` class which is very handy for performing common operations."
   ]
  },
  {
   "cell_type": "code",
   "execution_count": 27,
   "metadata": {},
   "outputs": [],
   "source": [
    "eval_class = [CLEVER, FastLip, LipLP, LipSDP, NaiveUB, RandomLB, SeqLip, LipMIP]"
   ]
  },
  {
   "cell_type": "code",
   "execution_count": null,
   "metadata": {},
   "outputs": [],
   "source": []
  },
  {
   "cell_type": "code",
   "execution_count": 28,
   "metadata": {},
   "outputs": [],
   "source": [
    "# Use case 1: evaluating local lipschitz constants for a fixed network, across many small random domains\n",
    "\n",
    "# --- build experiment object \n",
    "basic_exp = exp.Experiment(eval_class, network=test_network, c_vector=c_vector, primal_norm=primal_norm)\n",
    "\n",
    "# --- run all methods across 10 random hyperboxes, centered in [0,1]^2, with fixed radius 0.2\n",
    "sample_domain = Hyperbox.build_unit_hypercube(2)\n",
    "sample_factory = utils.Factory(Hyperbox.build_linf_ball, radius=0.2)\n",
    "random_out = basic_exp.do_random_evals(3, sample_domain, sample_factory) # This should take about a minute"
   ]
  },
  {
   "cell_type": "code",
   "execution_count": 30,
   "metadata": {},
   "outputs": [
    {
     "data": {
      "text/plain": [
       "<experiment.Result at 0x7f030f4b7748>"
      ]
     },
     "execution_count": 30,
     "metadata": {},
     "output_type": "execute_result"
    }
   ],
   "source": [
    "'''Examining random_out...\n",
    "random_out is a ResultList object, which is a list-like wrapper for individual Result Objects\n",
    "We'll first interact with a Result object which considers local lipschitz estimation for only one of the 3 \n",
    "random points we evaluated above. ResultList allows us to collect average and standard deviations for values\n",
    "and compute times\n",
    "'''\n",
    "result_0 = random_out.results[0] # first result \n",
    "result_0"
   ]
  },
  {
   "cell_type": "code",
   "execution_count": 36,
   "metadata": {},
   "outputs": [
    {
     "name": "stdout",
     "output_type": "stream",
     "text": [
      "{'CLEVER': 0.24502065777778625,\n",
      " 'FastLip': 1.5437431,\n",
      " 'LipLP': 1.4552422256126802,\n",
      " 'LipMIP': 0.24502267002602715,\n",
      " 'LipSDP': 0.6140934708628029,\n",
      " 'NaiveUB': 6.7530985,\n",
      " 'RandomLB': tensor(0.2450),\n",
      " 'SeqLip': 0.9519979580714448}\n"
     ]
    }
   ],
   "source": [
    "# Just the values:\n",
    "pprint(result_0.values())"
   ]
  },
  {
   "cell_type": "code",
   "execution_count": 37,
   "metadata": {},
   "outputs": [
    {
     "name": "stdout",
     "output_type": "stream",
     "text": [
      "{'CLEVER': 1.897946834564209,\n",
      " 'FastLip': 0.0011141300201416016,\n",
      " 'LipLP': 0.01175236701965332,\n",
      " 'LipMIP': 0.03613924980163574,\n",
      " 'LipSDP': 5.903670310974121,\n",
      " 'NaiveUB': 0.0002651214599609375,\n",
      " 'RandomLB': 0.37348198890686035,\n",
      " 'SeqLip': 0.006624460220336914}\n"
     ]
    }
   ],
   "source": [
    "# Just the compute times \n",
    "pprint(result_0.compute_times())"
   ]
  },
  {
   "cell_type": "code",
   "execution_count": 38,
   "metadata": {},
   "outputs": [
    {
     "name": "stdout",
     "output_type": "stream",
     "text": [
      "{'CLEVER': <other_methods.clever.CLEVER object at 0x7f030f4b7278>,\n",
      " 'FastLip': <other_methods.fast_lip.FastLip object at 0x7f030f4b77f0>,\n",
      " 'LipLP': <other_methods.lip_lp.LipLP object at 0x7f030f4b7908>,\n",
      " 'LipMIP': LipMIP Result: \n",
      "\tValue 0.245\n",
      "\tRuntime 0.036,\n",
      " 'LipSDP': <other_methods.lip_sdp.LipSDP object at 0x7f030f4b7b38>,\n",
      " 'NaiveUB': <other_methods.naive_methods.NaiveUB object at 0x7f030f4b74a8>,\n",
      " 'RandomLB': <other_methods.naive_methods.RandomLB object at 0x7f030f4b7e80>,\n",
      " 'SeqLip': <other_methods.seq_lip.SeqLip object at 0x7f030f4b7940>}\n"
     ]
    }
   ],
   "source": [
    "# The entire objects\n",
    "pprint(result_0.objects())"
   ]
  },
  {
   "cell_type": "code",
   "execution_count": 44,
   "metadata": {},
   "outputs": [
    {
     "name": "stdout",
     "output_type": "stream",
     "text": [
      "values:\n",
      "{'CLEVER': (0.23219680289427438, 0.013017590767464945, 3),\n",
      " 'FastLip': (1.1594396, 0.29563046, 3),\n",
      " 'LipLP': (1.0838283144675767, 0.2828449739617439, 3),\n",
      " 'LipMIP': (0.23219880482980879, 0.013017597637645817, 3),\n",
      " 'LipSDP': (0.6140934708628029, 0.0, 3),\n",
      " 'NaiveUB': (6.753099, 4.7683716e-07, 3),\n",
      " 'RandomLB': (0.23219681, 0.013017589, 3),\n",
      " 'SeqLip': (0.9519979580714448, 0.0, 3)}\n",
      "\n",
      "times:\n",
      "{'CLEVER': (1.9245862166086833, 0.06511572578781501, 3),\n",
      " 'FastLip': (0.0012742678324381511, 0.0002159351453616695, 3),\n",
      " 'LipLP': (0.011168082555135092, 0.0004139741795789362, 3),\n",
      " 'LipMIP': (0.0366217295328776, 0.0037957176296600555, 3),\n",
      " 'LipSDP': (5.911162694295247, 0.03566331163237689, 3),\n",
      " 'NaiveUB': (0.00029889742533365887, 3.616443021838349e-05, 3),\n",
      " 'RandomLB': (0.3862941265106201, 0.016450974104802892, 3),\n",
      " 'SeqLip': (0.007067521413167317, 0.00033200517416576993, 3)}\n"
     ]
    }
   ],
   "source": [
    "# To operate on a result_list, you can access mean and standard deviations directly:\n",
    "print('values:')\n",
    "pprint(random_out.average_stdevs('value'))\n",
    "print('\\ntimes:')\n",
    "pprint(random_out.average_stdevs('time'))\n",
    "\n",
    "# where each triple is of the form (average, stdev, n)"
   ]
  },
  {
   "cell_type": "code",
   "execution_count": 45,
   "metadata": {},
   "outputs": [],
   "source": [
    "# Use case 2: evaluating local lipschitz constants across [0,1]^d\n",
    "basic_exp.do_l\n"
   ]
  },
  {
   "cell_type": "code",
   "execution_count": null,
   "metadata": {},
   "outputs": [],
   "source": [
    "# Use case 3: evaluating local lipschitz constants across [-r, +r]^d where r is a parameter taken to be large\n"
   ]
  }
 ],
 "metadata": {
  "kernelspec": {
   "display_name": "Python 3",
   "language": "python",
   "name": "python3"
  },
  "language_info": {
   "codemirror_mode": {
    "name": "ipython",
    "version": 3
   },
   "file_extension": ".py",
   "mimetype": "text/x-python",
   "name": "python",
   "nbconvert_exporter": "python",
   "pygments_lexer": "ipython3",
   "version": "3.6.9"
  }
 },
 "nbformat": 4,
 "nbformat_minor": 2
}

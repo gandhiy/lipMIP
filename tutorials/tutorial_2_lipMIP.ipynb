{
 "cells": [
  {
   "cell_type": "markdown",
   "metadata": {},
   "source": [
    "# Tutorial 2: LipMIP\n",
    "In this tutorial, we'll go over how to use LipMIP to exactly compute the Lipschitz constant of a ReLU network. LipMIP leverages Gurobi as a solver for mixed-integer programs, and you'll need to have gurobi installed (and gurobipy) for this section to work."
   ]
  },
  {
   "cell_type": "code",
   "execution_count": 1,
   "metadata": {},
   "outputs": [],
   "source": [
    "import sys \n",
    "sys.path.append('..')\n",
    "import torch \n",
    "from pprint import pprint \n",
    "\n",
    "import utilities as utils \n",
    "from relu_nets import ReLUNet \n",
    "import neural_nets.data_loaders as data_loaders\n",
    "import neural_nets.train as train \n",
    "from hyperbox import Hyperbox \n",
    "import interval_analysis as ia \n",
    "from lipMIP import LipMIP"
   ]
  },
  {
   "cell_type": "markdown",
   "metadata": {},
   "source": [
    "## 1: Basic usage\n",
    "\n",
    "In its simplest form, LipMIP frames evaluating the local Lipschitz constant of a scalar-valued ReLU network as a mixed-integer program. Crucially, there are two important components here: \n",
    "* Locality: We only support bounded hyperboxes as the domains in which we search over\n",
    "* Scalar-valued: The ReLU network must output a scalar (we extend to multivariate networks later). For a typical neural net, $f$, which maps $\\mathbb{R}^d\\rightarrow \\mathbb{R}^C$, we maintain a `c_vector`, $c$, and compute the Lipschitz constant of $\\langle c, f\\rangle$. For binary classification, $c$ is typically $[1,-1]$."
   ]
  },
  {
   "cell_type": "code",
   "execution_count": 2,
   "metadata": {},
   "outputs": [
    {
     "name": "stdout",
     "output_type": "stream",
     "text": [
      "Changed value of parameter Threads to 2\n",
      "   Prev: 0  Min: 0  Max: 1024  Default: 0\n",
      "Optimize a model with 291 rows, 167 columns and 1181 nonzeros\n",
      "Variable types: 139 continuous, 28 integer (28 binary)\n",
      "Coefficient statistics:\n",
      "  Matrix range     [2e-04, 2e+00]\n",
      "  Objective range  [1e+00, 1e+00]\n",
      "  Bounds range     [1e-06, 1e+00]\n",
      "  RHS range        [1e-06, 2e+00]\n",
      "Presolve removed 145 rows and 76 columns\n",
      "Presolve time: 0.01s\n",
      "Presolved: 146 rows, 91 columns, 759 nonzeros\n",
      "Variable types: 68 continuous, 23 integer (23 binary)\n",
      "\n",
      "Root relaxation: objective 9.356497e-01, 117 iterations, 0.00 seconds\n",
      "\n",
      "    Nodes    |    Current Node    |     Objective Bounds      |     Work\n",
      " Expl Unexpl |  Obj  Depth IntInf | Incumbent    BestBd   Gap | It/Node Time\n",
      "\n",
      "     0     0    0.93565    0   14          -    0.93565      -     -    0s\n",
      "H    0     0                       0.2544534    0.93565   268%     -    0s\n",
      "     0     0    0.91001    0   16    0.25445    0.91001   258%     -    0s\n",
      "     0     0    0.79290    0   16    0.25445    0.79290   212%     -    0s\n",
      "     0     0    0.78496    0   15    0.25445    0.78496   208%     -    0s\n",
      "     0     0    0.78205    0   13    0.25445    0.78205   207%     -    0s\n",
      "     0     0    0.78011    0   14    0.25445    0.78011   207%     -    0s\n",
      "     0     0    0.77861    0   16    0.25445    0.77861   206%     -    0s\n",
      "H    0     0                       0.3111395    0.77861   150%     -    0s\n",
      "     0     0    0.77819    0   19    0.31114    0.77819   150%     -    0s\n",
      "     0     0    0.77793    0   19    0.31114    0.77793   150%     -    0s\n",
      "     0     0    0.77792    0   17    0.31114    0.77792   150%     -    0s\n",
      "     0     0    0.77779    0   19    0.31114    0.77779   150%     -    0s\n",
      "     0     2    0.77779    0   19    0.31114    0.77779   150%     -    0s\n",
      "*   15     4               4       0.3816263    0.44304  16.1%  29.5    0s\n",
      "\n",
      "Cutting planes:\n",
      "  Gomory: 2\n",
      "  Cover: 2\n",
      "  Implied bound: 1\n",
      "  Clique: 1\n",
      "  MIR: 11\n",
      "  Flow cover: 4\n",
      "\n",
      "Explored 31 nodes (1053 simplex iterations) in 0.12 seconds\n",
      "Thread count was 2 (of 8 available processors)\n",
      "\n",
      "Solution count 3: 0.381626 0.31114 0.254453 \n",
      "\n",
      "Optimal solution found (tolerance 1.00e-04)\n",
      "Best objective 3.816262894575e-01, best bound 3.816262894575e-01, gap 0.0000%\n"
     ]
    }
   ],
   "source": [
    "# As an example, we'll consider binary classification over R^2\n",
    "DIMENSION = 2\n",
    "\n",
    "# Define an input domain and c_vector \n",
    "simple_domain = Hyperbox.build_unit_hypercube(DIMENSION)\n",
    "simple_c_vector = torch.Tensor([1.0, -1.0])\n",
    "\n",
    "# Build a random network and a LipMIP instance \n",
    "network_simple = ReLUNet([2, 16, 16, 2])\n",
    "simple_prob = LipMIP(network_simple, simple_domain, simple_c_vector, verbose=True, num_threads=2)\n",
    "\n",
    "simple_result = simple_prob.compute_max_lipschitz()"
   ]
  },
  {
   "cell_type": "code",
   "execution_count": 3,
   "metadata": {},
   "outputs": [
    {
     "data": {
      "text/plain": [
       "LipMIP Result: \n",
       "\tValue 0.382\n",
       "\tRuntime 0.136"
      ]
     },
     "execution_count": 3,
     "metadata": {},
     "output_type": "execute_result"
    }
   ],
   "source": [
    "# We can examine the result of this with the LipResult class \n",
    "simple_result"
   ]
  },
  {
   "cell_type": "code",
   "execution_count": 4,
   "metadata": {},
   "outputs": [
    {
     "name": "stdout",
     "output_type": "stream",
     "text": [
      "dict_keys(['domain', 'value', 'sign_config', 'model', 'best_x', 'preacts', 'network', 'compute_time', 'c_vector', 'squire'])\n",
      "\n",
      "\n",
      "<gurobi.Model MIP instance Unnamed: 291 constrs, 167 vars, Parameter changes: LogFile=gurobi.log, Threads=2, CSIdleTimeout=1800>\n"
     ]
    }
   ],
   "source": [
    "print(simple_result.as_dict().keys())  # A lot more information under the hood \n",
    "print('\\n')\n",
    "\n",
    "print(simple_result.squire.model) # like the gurobi.Model object we solved"
   ]
  },
  {
   "cell_type": "markdown",
   "metadata": {},
   "source": [
    "# 2: Stopping Early\n",
    "There are two main techniques for early stopping which provides a certifiable **upper bound** to the lipschitz constant of a neural network. We describe how to include these options into LipMIP:"
   ]
  },
  {
   "cell_type": "code",
   "execution_count": 5,
   "metadata": {},
   "outputs": [
    {
     "name": "stdout",
     "output_type": "stream",
     "text": [
      "Changed value of parameter TimeLimit to 10.0\n",
      "   Prev: 1e+100  Min: 0.0  Max: 1e+100  Default: 1e+100\n",
      "Changed value of parameter Threads to 4\n",
      "   Prev: 0  Min: 0  Max: 1024  Default: 0\n",
      "Optimize a model with 423 rows, 241 columns and 1679 nonzeros\n",
      "Variable types: 195 continuous, 46 integer (46 binary)\n",
      "Coefficient statistics:\n",
      "  Matrix range     [2e-03, 2e+00]\n",
      "  Objective range  [1e+00, 1e+00]\n",
      "  Bounds range     [1e-06, 2e+00]\n",
      "  RHS range        [1e-06, 1e+00]\n",
      "Presolve removed 96 rows and 42 columns\n",
      "Presolve time: 0.00s\n",
      "Presolved: 327 rows, 199 columns, 1364 nonzeros\n",
      "Variable types: 155 continuous, 44 integer (44 binary)\n",
      "\n",
      "Root relaxation: objective 3.682911e+00, 705 iterations, 0.02 seconds\n",
      "\n",
      "    Nodes    |    Current Node    |     Objective Bounds      |     Work\n",
      " Expl Unexpl |  Obj  Depth IntInf | Incumbent    BestBd   Gap | It/Node Time\n",
      "\n",
      "     0     0    3.59732    0   36          -    3.59732      -     -    0s\n",
      "H    0     0                       0.0215376    3.59732      -     -    0s\n",
      "     0     0    3.56859    0   40    0.02154    3.56859      -     -    0s\n",
      "     0     0    3.55448    0   36    0.02154    3.55448      -     -    0s\n",
      "     0     0    3.52719    0   41    0.02154    3.52719      -     -    0s\n",
      "     0     0    3.52694    0   41    0.02154    3.52694      -     -    0s\n",
      "     0     0    3.50335    0   38    0.02154    3.50335      -     -    0s\n",
      "     0     0    3.50305    0   38    0.02154    3.50305      -     -    0s\n",
      "     0     0    3.49356    0   38    0.02154    3.49356      -     -    0s\n",
      "     0     0    3.49352    0   38    0.02154    3.49352      -     -    0s\n",
      "     0     0    3.48433    0   38    0.02154    3.48433      -     -    0s\n",
      "     0     0    3.48423    0   39    0.02154    3.48423      -     -    0s\n",
      "     0     0    3.47761    0   39    0.02154    3.47761      -     -    0s\n",
      "     0     0    3.47758    0   38    0.02154    3.47758      -     -    0s\n",
      "     0     0    3.47513    0   41    0.02154    3.47513      -     -    0s\n",
      "     0     0    3.47506    0   42    0.02154    3.47506      -     -    0s\n",
      "     0     0    3.47156    0   39    0.02154    3.47156      -     -    0s\n",
      "     0     0    3.47154    0   41    0.02154    3.47154      -     -    0s\n",
      "     0     0    3.46145    0   39    0.02154    3.46145      -     -    0s\n",
      "     0     0    3.46126    0   39    0.02154    3.46126      -     -    0s\n",
      "     0     0    3.46126    0   39    0.02154    3.46126      -     -    0s\n",
      "     0     0    3.46120    0   41    0.02154    3.46120      -     -    0s\n",
      "     0     0    3.46120    0   41    0.02154    3.46120      -     -    0s\n",
      "     0     2    3.46120    0   41    0.02154    3.46120      -     -    0s\n",
      "H  378   275                       0.0217861    2.66518      -  89.6    0s\n",
      "H 2019   947                       0.0296116    1.95605  6506%  75.8    2s\n",
      "H 2076   924                       0.0315291    1.93811  6047%  76.7    2s\n",
      "H 2783  1048                       0.0345054    1.64549  4669%  81.9    3s\n",
      "  3826  1553    0.32428   29   19    0.03451    1.38436  3912%  83.9    5s\n",
      "H 7162  3089                       0.0345695    1.05738  2959%  78.3    7s\n",
      "H 7167  3094                       0.0355716    1.05738  2873%  78.5    7s\n",
      "  9937  4223    0.69906   24   27    0.03557    0.91848  2482%  76.5   10s\n",
      "\n",
      "Cutting planes:\n",
      "  Learned: 4\n",
      "\n",
      "Explored 10139 nodes (787245 simplex iterations) in 10.00 seconds\n",
      "Thread count was 4 (of 8 available processors)\n",
      "\n",
      "Solution count 7: 0.0355716 0.0345695 0.0345054 ... 0.0215376\n",
      "\n",
      "Time limit reached\n",
      "Best objective 3.557160992579e-02, best bound 9.117276278027e-01, gap 2463.0766%\n"
     ]
    }
   ],
   "source": [
    "\"\"\"\n",
    "Timeouts: If we only want to run LipMIP for a fixed clock time, this can be done by\n",
    "          setting the `timeout` parameter (in seconds) upon initialization\n",
    "Integrality_Gap: For maximization problems, MIP solves a sequence of relaxed problems which provide upper bounds\n",
    "                 to the true optimum. Any feasible point provides a lower bound. Using this, Gurobi keeps track \n",
    "                 of an integrality gap (as an upper bound on percent error). i.e. if we want to be within 10% of \n",
    "                 the right answer, we can set `mip_gap` to 0.10\n",
    "        \n",
    "In either case of stopping early, the returned value is an UPPER BOUND to the true Lipschitz constant of a network.\n",
    "\"\"\"\n",
    "# More complicated network for which timeouts matter \n",
    "network_bigger = ReLUNet([10, 10, 10, 10, 10, 2])\n",
    "bigger_domain = Hyperbox.build_unit_hypercube(10)\n",
    "bigger_c_vector = torch.Tensor([1.0, -1.0])\n",
    "\n",
    "timeout_prob = LipMIP(network_bigger, bigger_domain, bigger_c_vector, verbose=True, timeout=10.0)\n",
    "timeout_result = timeout_prob.compute_max_lipschitz()"
   ]
  },
  {
   "cell_type": "code",
   "execution_count": 6,
   "metadata": {},
   "outputs": [
    {
     "data": {
      "text/plain": [
       "LipMIP Result: \n",
       "\tValue 0.912\n",
       "\tRuntime 10.049"
      ]
     },
     "execution_count": 6,
     "metadata": {},
     "output_type": "execute_result"
    }
   ],
   "source": [
    "timeout_result"
   ]
  },
  {
   "cell_type": "code",
   "execution_count": 7,
   "metadata": {},
   "outputs": [
    {
     "name": "stdout",
     "output_type": "stream",
     "text": [
      "Changed value of parameter MIPGap to 2.0\n",
      "   Prev: 0.0001  Min: 0.0  Max: 1e+100  Default: 0.0001\n",
      "Changed value of parameter Threads to 4\n",
      "   Prev: 0  Min: 0  Max: 1024  Default: 0\n",
      "Optimize a model with 423 rows, 241 columns and 1679 nonzeros\n",
      "Variable types: 195 continuous, 46 integer (46 binary)\n",
      "Coefficient statistics:\n",
      "  Matrix range     [2e-03, 2e+00]\n",
      "  Objective range  [1e+00, 1e+00]\n",
      "  Bounds range     [1e-06, 2e+00]\n",
      "  RHS range        [1e-06, 1e+00]\n",
      "Presolve removed 96 rows and 42 columns\n",
      "Presolve time: 0.01s\n",
      "Presolved: 327 rows, 199 columns, 1364 nonzeros\n",
      "Variable types: 155 continuous, 44 integer (44 binary)\n",
      "\n",
      "Root relaxation: objective 3.682911e+00, 705 iterations, 0.02 seconds\n",
      "\n",
      "    Nodes    |    Current Node    |     Objective Bounds      |     Work\n",
      " Expl Unexpl |  Obj  Depth IntInf | Incumbent    BestBd   Gap | It/Node Time\n",
      "\n",
      "     0     0    3.59732    0   36          -    3.59732      -     -    0s\n",
      "H    0     0                       0.0215376    3.59732      -     -    0s\n",
      "     0     0    3.56859    0   40    0.02154    3.56859      -     -    0s\n",
      "     0     0    3.55448    0   36    0.02154    3.55448      -     -    0s\n",
      "     0     0    3.52719    0   41    0.02154    3.52719      -     -    0s\n",
      "     0     0    3.52694    0   41    0.02154    3.52694      -     -    0s\n",
      "     0     0    3.50335    0   38    0.02154    3.50335      -     -    0s\n",
      "     0     0    3.50305    0   38    0.02154    3.50305      -     -    0s\n",
      "     0     0    3.49356    0   38    0.02154    3.49356      -     -    0s\n",
      "     0     0    3.49352    0   38    0.02154    3.49352      -     -    0s\n",
      "     0     0    3.48433    0   38    0.02154    3.48433      -     -    0s\n",
      "     0     0    3.48423    0   39    0.02154    3.48423      -     -    0s\n",
      "     0     0    3.47638    0   39    0.02154    3.47638      -     -    0s\n",
      "     0     0    3.47634    0   40    0.02154    3.47634      -     -    0s\n",
      "     0     0    3.47180    0   39    0.02154    3.47180      -     -    0s\n",
      "     0     0    3.47173    0   40    0.02154    3.47173      -     -    0s\n",
      "     0     0    3.46407    0   41    0.02154    3.46407      -     -    0s\n",
      "     0     0    3.46392    0   40    0.02154    3.46392      -     -    0s\n",
      "     0     0    3.46392    0   39    0.02154    3.46392      -     -    0s\n",
      "     0     0    3.45691    0   39    0.02154    3.45691      -     -    0s\n",
      "     0     0    3.45663    0   36    0.02154    3.45663      -     -    0s\n",
      "     0     0    3.45661    0   39    0.02154    3.45661      -     -    0s\n",
      "H    0     0                       0.0300370    3.45661      -     -    0s\n",
      "     0     0    3.44325    0   37    0.03004    3.44325      -     -    0s\n",
      "     0     0    3.44296    0   40    0.03004    3.44296      -     -    0s\n",
      "     0     0    3.44291    0   38    0.03004    3.44291      -     -    0s\n",
      "     0     0    3.44286    0   39    0.03004    3.44286      -     -    0s\n",
      "     0     0    3.44286    0   39    0.03004    3.44286      -     -    0s\n",
      "     0     2    3.44286    0   39    0.03004    3.44286      -     -    0s\n",
      "H  787   440                       0.0306298    3.02902  9789%  64.2    1s\n",
      "H 1760   795                       0.0427872    2.15659  4940%  64.6    2s\n",
      "H 2039   850                       0.0427872    1.89415  4327%  68.0    3s\n",
      "H 2122   843                       0.0469620    1.84749  3834%  67.8    3s\n",
      "  3220  1289    0.08435   27   16    0.04696    1.40868  2900%  70.8    5s\n",
      "H 4103  1733                       0.0469620    1.28322  2632%  71.5    6s\n",
      "  8096  3475    0.44290   21   20    0.04696    0.91040  1839%  68.6   10s\n",
      " 12948  5341    0.12860   21   17    0.04696    0.72929  1453%  65.6   15s\n",
      " 15216  5964    0.37290   19   25    0.04696    0.67417  1336%  65.8   20s\n",
      " 20779  7670    0.16132   24   14    0.04696    0.57889  1133%  63.9   25s\n",
      " 22773  8220    0.36829   22   18    0.04696    0.55523  1082%  63.8   30s\n",
      " 27608  9442    0.07870   29   11    0.04696    0.50693   979%  66.8   35s\n",
      " 32230 10497    0.20820   24   21    0.04696    0.46855   898%  68.9   40s\n",
      " 37206 11615    0.16859   23   16    0.04696    0.43726   831%  70.2   45s\n",
      " 42165 12723 infeasible   27         0.04696    0.40918   771%  70.8   50s\n",
      " 47977 13890    0.18280   23   17    0.04696    0.38211   714%  71.5   55s\n",
      " 53022 14758    0.12619   25   14    0.04696    0.36252   672%  71.9   60s\n",
      " 57963 15557    0.07313   30    9    0.04696    0.34582   636%  71.9   65s\n",
      " 63279 16304    0.19758   22   15    0.04696    0.32840   599%  71.8   70s\n",
      " 68993 17067    0.14179   22   21    0.04696    0.31345   567%  71.5   75s\n",
      " 74930 17835    0.13691   28   11    0.04696    0.29942   538%  71.0   80s\n",
      " 80416 18429    0.10467   30   11    0.04696    0.28811   514%  70.7   85s\n",
      " 86207 18970 infeasible   30         0.04696    0.27659   489%  70.5   90s\n",
      "H86228 18975                       0.0469625    0.27654   489%  70.5   90s\n",
      " 90354 19272    0.12199   25   18    0.04696    0.26868   472%  70.4   95s\n",
      " 95923 19711    0.14256   25   15    0.04696    0.25947   453%  70.2  100s\n",
      " 100082 20034    0.11605   24   17    0.04696    0.25362   440%  70.2  105s\n",
      " 104353 20323     cutoff   25         0.04696    0.24704   426%  69.9  110s\n",
      " 109377 20590 infeasible   27         0.04696    0.23956   410%  69.9  115s\n",
      " 115711 20937    0.21268   23   21    0.04696    0.23131   393%  69.6  120s\n",
      " 122245 21126    0.17909   29   12    0.04696    0.22282   374%  69.4  125s\n",
      " 129666 21491 infeasible   30         0.04696    0.21470   357%  68.7  130s\n",
      " 136255 21630    0.11116   28    9    0.04696    0.20728   341%  68.4  135s\n",
      " 141633 21530    0.15170   24   16    0.04696    0.20199   330%  68.3  140s\n",
      " 148311 21627    0.16932   26   21    0.04696    0.19608   318%  67.8  145s\n",
      " 155794 21767 infeasible   28         0.04696    0.18994   304%  67.4  150s\n",
      " 162404 21702    0.05212   29   10    0.04696    0.18452   293%  67.1  155s\n",
      " 169779 21627    0.07683   29    9    0.04696    0.17854   280%  66.7  160s\n",
      " 175623 21515    0.08800   28   13    0.04696    0.17404   271%  66.3  165s\n",
      " 180775 21205    0.11999   30   13    0.04696    0.16986   262%  66.2  170s\n",
      " 188216 20944    0.07370   27   13    0.04696    0.16485   251%  65.8  175s\n",
      " 195662 20691     cutoff   28         0.04696    0.16031   241%  65.3  180s\n",
      " 203326 20419    0.11752   28   10    0.04696    0.15574   232%  64.9  185s\n",
      " 210382 19963    0.09035   30   13    0.04696    0.15105   222%  64.6  190s\n",
      " 218223 19468    0.08977   29   12    0.04696    0.14644   212%  64.2  195s\n",
      " 225005 19038    0.08819   28   10    0.04696    0.14253   204%  63.9  200s\n",
      "\n",
      "Cutting planes:\n",
      "  Learned: 4\n",
      "  Gomory: 4\n",
      "  Implied bound: 6\n",
      "  MIR: 10\n",
      "  Flow cover: 31\n",
      "\n",
      "Explored 227982 nodes (14539662 simplex iterations) in 202.16 seconds\n",
      "Thread count was 4 (of 8 available processors)\n",
      "\n",
      "Solution count 8: 0.0469625 0.046962 0.046962 ... 0.0215376\n",
      "\n",
      "Optimal solution found (tolerance 2.00e+00)\n",
      "Best objective 4.696254300545e-02, best bound 1.407763456606e-01, gap 199.7630%\n"
     ]
    }
   ],
   "source": [
    "gap_prob = LipMIP(network_bigger, bigger_domain, bigger_c_vector, verbose=True, mip_gap=2)\n",
    "gap_result = gap_prob.compute_max_lipschitz() # This should take less than a minute"
   ]
  },
  {
   "cell_type": "code",
   "execution_count": 8,
   "metadata": {},
   "outputs": [
    {
     "data": {
      "text/plain": [
       "LipMIP Result: \n",
       "\tValue 0.141\n",
       "\tRuntime 202.191"
      ]
     },
     "execution_count": 8,
     "metadata": {},
     "output_type": "execute_result"
    }
   ],
   "source": [
    "gap_result"
   ]
  },
  {
   "cell_type": "markdown",
   "metadata": {},
   "source": [
    "# 3: Vector-valued Networks\n",
    "As per section 7 and appendix E of our paper, we can extend LipMIP to evaluating the Lipschitz constant of vector-valued networks where the norms of interest are linear norms. That is, if $f:\\mathbb{R}^n\\rightarrow \\mathbb{R}^m$ is a ReLU network, over some domain $\\mathcal{X}$, we can compute \n",
    "$$ \\max_{x,y\\in\\mathcal{X}} \\frac{||f(x)-f(y)||_b}{||x-y||_a}$$\n",
    "for some linear norms $||\\cdot||_a, ||\\cdot||_b$ over $\\mathbb{R}^n, \\mathbb{R}^m$ respectively. \n",
    "\n",
    "We describe the various norms our codebase can handle this below."
   ]
  },
  {
   "cell_type": "code",
   "execution_count": 9,
   "metadata": {},
   "outputs": [
    {
     "name": "stdout",
     "output_type": "stream",
     "text": [
      "Changed value of parameter Threads to 4\n",
      "   Prev: 0  Min: 0  Max: 1024  Default: 0\n",
      "Optimize a model with 291 rows, 167 columns and 1181 nonzeros\n",
      "Variable types: 139 continuous, 28 integer (28 binary)\n",
      "Coefficient statistics:\n",
      "  Matrix range     [2e-04, 2e+00]\n",
      "  Objective range  [1e+00, 1e+00]\n",
      "  Bounds range     [1e-06, 1e+00]\n",
      "  RHS range        [1e-06, 2e+00]\n",
      "Presolve removed 145 rows and 76 columns\n",
      "Presolve time: 0.02s\n",
      "Presolved: 146 rows, 91 columns, 759 nonzeros\n",
      "Variable types: 68 continuous, 23 integer (23 binary)\n",
      "\n",
      "Root relaxation: objective 9.356497e-01, 117 iterations, 0.00 seconds\n",
      "\n",
      "    Nodes    |    Current Node    |     Objective Bounds      |     Work\n",
      " Expl Unexpl |  Obj  Depth IntInf | Incumbent    BestBd   Gap | It/Node Time\n",
      "\n",
      "     0     0    0.93565    0   14          -    0.93565      -     -    0s\n",
      "H    0     0                       0.2544534    0.93565   268%     -    0s\n",
      "H    0     0                       0.3816263    0.93565   145%     -    0s\n",
      "     0     0    0.91001    0   16    0.38163    0.91001   138%     -    0s\n",
      "     0     0    0.43428    0   16    0.38163    0.43428  13.8%     -    0s\n",
      "     0     0    0.42156    0   13    0.38163    0.42156  10.5%     -    0s\n",
      "     0     0    0.42156    0   16    0.38163    0.42156  10.5%     -    0s\n",
      "     0     0    0.42156    0   15    0.38163    0.42156  10.5%     -    0s\n",
      "     0     0    0.42156    0   15    0.38163    0.42156  10.5%     -    0s\n",
      "     0     2    0.42156    0   15    0.38163    0.42156  10.5%     -    0s\n",
      "\n",
      "Cutting planes:\n",
      "  Gomory: 3\n",
      "  Cover: 3\n",
      "  Implied bound: 5\n",
      "  Clique: 1\n",
      "  MIR: 24\n",
      "  Flow cover: 7\n",
      "\n",
      "Explored 29 nodes (901 simplex iterations) in 0.14 seconds\n",
      "Thread count was 4 (of 8 available processors)\n",
      "\n",
      "Solution count 2: 0.381626 0.254453 \n",
      "\n",
      "Optimal solution found (tolerance 1.00e-04)\n",
      "Best objective 3.816262894575e-01, best bound 3.816262894575e-01, gap 0.0000%\n",
      "Changed value of parameter Threads to 4\n",
      "   Prev: 0  Min: 0  Max: 1024  Default: 0\n",
      "Optimize a model with 295 rows, 169 columns and 1190 nonzeros\n",
      "Variable types: 139 continuous, 30 integer (30 binary)\n",
      "Coefficient statistics:\n",
      "  Matrix range     [2e-04, 2e+00]\n",
      "  Objective range  [1e+00, 1e+00]\n",
      "  Bounds range     [1e-06, 1e+00]\n",
      "  RHS range        [1e-06, 2e+00]\n",
      "Presolve removed 146 rows and 76 columns\n",
      "Presolve time: 0.01s\n",
      "Presolved: 149 rows, 93 columns, 692 nonzeros\n",
      "Variable types: 69 continuous, 24 integer (24 binary)\n",
      "\n",
      "Root relaxation: objective 5.260931e-01, 63 iterations, 0.00 seconds\n",
      "\n",
      "    Nodes    |    Current Node    |     Objective Bounds      |     Work\n",
      " Expl Unexpl |  Obj  Depth IntInf | Incumbent    BestBd   Gap | It/Node Time\n",
      "\n",
      "     0     0    0.52609    0    3          -    0.52609      -     -    0s\n",
      "H    0     0                       0.1211974    0.52609   334%     -    0s\n",
      "     0     0    0.51916    0   13    0.12120    0.51916   328%     -    0s\n",
      "H    0     0                       0.1221095    0.51916   325%     -    0s\n",
      "H    0     0                       0.1667428    0.51916   211%     -    0s\n",
      "     0     0    0.51436    0   19    0.16674    0.51436   208%     -    0s\n",
      "     0     0    0.51253    0   17    0.16674    0.51253   207%     -    0s\n",
      "     0     0    0.39958    0   17    0.16674    0.39958   140%     -    0s\n",
      "     0     0    0.35273    0    9    0.16674    0.35273   112%     -    0s\n",
      "H    0     0                       0.2000957    0.35273  76.3%     -    0s\n",
      "     0     0    0.31567    0   17    0.20010    0.31567  57.8%     -    0s\n",
      "     0     0    0.27443    0   19    0.20010    0.27443  37.1%     -    0s\n",
      "     0     0    0.20883    0   19    0.20010    0.20883  4.36%     -    0s\n",
      "     0     0    0.20883    0   17    0.20010    0.20883  4.36%     -    0s\n",
      "     0     2    0.20883    0   17    0.20010    0.20883  4.36%     -    0s\n",
      "\n",
      "Cutting planes:\n",
      "  Gomory: 1\n",
      "  Cover: 3\n",
      "  Implied bound: 3\n",
      "  Clique: 2\n",
      "  MIR: 4\n",
      "  StrongCG: 1\n",
      "  Zero half: 2\n",
      "\n",
      "Explored 41 nodes (1147 simplex iterations) in 0.15 seconds\n",
      "Thread count was 4 (of 8 available processors)\n",
      "\n",
      "Solution count 4: 0.200096 0.166743 0.122109 0.121197 \n",
      "\n",
      "Optimal solution found (tolerance 1.00e-04)\n",
      "Best objective 2.000956994187e-01, best bound 2.000956994187e-01, gap 0.0000%\n"
     ]
    },
    {
     "data": {
      "text/plain": [
       "LipMIP Result: \n",
       "\tValue 0.200\n",
       "\tRuntime 0.175"
      ]
     },
     "execution_count": 9,
     "metadata": {},
     "output_type": "execute_result"
    }
   ],
   "source": [
    "# First we handle the scalar-valued case. \n",
    "# The examples above have used abs(...) for the numerator and the L_inf norm for the denominator\n",
    "# To consider the L_1 norm in the denominator, adjust the `primal_norm` parameter\n",
    "\n",
    "\n",
    "# L-infinity norm (setting we use by default)\n",
    "linf_problem = LipMIP(network_simple, simple_domain, simple_c_vector, primal_norm='linf', verbose=True) \n",
    "linf_problem.compute_max_lipschitz()\n",
    "\n",
    "# L-1 norm\n",
    "l1_problem = LipMIP(network_simple, simple_domain, simple_c_vector, primal_norm='l1', verbose=True) \n",
    "l1_problem.compute_max_lipschitz()"
   ]
  },
  {
   "cell_type": "code",
   "execution_count": 10,
   "metadata": {},
   "outputs": [
    {
     "name": "stdout",
     "output_type": "stream",
     "text": [
      "Changed value of parameter Threads to 4\n",
      "   Prev: 0  Min: 0  Max: 1024  Default: 0\n",
      "Optimize a model with 294 rows, 171 columns and 1221 nonzeros\n",
      "Variable types: 143 continuous, 28 integer (28 binary)\n",
      "Coefficient statistics:\n",
      "  Matrix range     [2e-04, 5e+00]\n",
      "  Objective range  [1e+00, 1e+00]\n",
      "  Bounds range     [1e-06, 2e+00]\n",
      "  RHS range        [1e-06, 5e+00]\n",
      "Presolve removed 99 rows and 60 columns\n",
      "Presolve time: 0.01s\n",
      "Presolved: 195 rows, 111 columns, 956 nonzeros\n",
      "Variable types: 88 continuous, 23 integer (23 binary)\n",
      "\n",
      "Root relaxation: objective 3.505895e+00, 110 iterations, 0.00 seconds\n",
      "\n",
      "    Nodes    |    Current Node    |     Objective Bounds      |     Work\n",
      " Expl Unexpl |  Obj  Depth IntInf | Incumbent    BestBd   Gap | It/Node Time\n",
      "\n",
      "     0     0    3.50589    0    2          -    3.50589      -     -    0s\n",
      "H    0     0                       0.0718532    3.50589  4779%     -    0s\n",
      "H    0     0                       0.1151976    3.50589  2943%     -    0s\n",
      "     0     0    3.50589    0   14    0.11520    3.50589  2943%     -    0s\n",
      "H    0     0                       0.1863842    3.50589  1781%     -    0s\n",
      "H    0     0                       0.1885699    3.50589  1759%     -    0s\n",
      "     0     0    2.69660    0    8    0.18857    2.69660  1330%     -    0s\n",
      "     0     0    2.69660    0    8    0.18857    2.69660  1330%     -    0s\n",
      "H    0     0                       0.2222876    2.69660  1113%     -    0s\n",
      "H    0     0                       0.2527049    2.69660   967%     -    0s\n",
      "     0     2    2.69660    0    8    0.25270    2.69660   967%     -    0s\n",
      "\n",
      "Cutting planes:\n",
      "  Gomory: 7\n",
      "  Cover: 1\n",
      "  Implied bound: 5\n",
      "  Clique: 4\n",
      "  MIR: 8\n",
      "  Flow cover: 2\n",
      "  Inf proof: 1\n",
      "\n",
      "Explored 278 nodes (3395 simplex iterations) in 0.16 seconds\n",
      "Thread count was 4 (of 8 available processors)\n",
      "\n",
      "Solution count 6: 0.252705 0.222288 0.18857 ... 0.0718532\n",
      "\n",
      "Optimal solution found (tolerance 1.00e-04)\n",
      "Best objective 2.527048969998e-01, best bound 2.527048969998e-01, gap 0.0000%\n"
     ]
    },
    {
     "data": {
      "text/plain": [
       "LipMIP Result: \n",
       "\tValue 0.253\n",
       "\tRuntime 0.184"
      ]
     },
     "execution_count": 10,
     "metadata": {},
     "output_type": "execute_result"
    }
   ],
   "source": [
    "# Next we consider the vector valued cases:\n",
    "# Case where both ||.||_a and ||.||_b are the infinity norms\n",
    "\n",
    "inf_problem = LipMIP(network_simple, simple_domain, 'l1Ball1', verbose=True) # c_vector -> 'l1Ball1'\n",
    "inf_problem.compute_max_lipschitz()"
   ]
  },
  {
   "cell_type": "code",
   "execution_count": 11,
   "metadata": {},
   "outputs": [
    {
     "name": "stdout",
     "output_type": "stream",
     "text": [
      "Changed value of parameter Threads to 4\n",
      "   Prev: 0  Min: 0  Max: 1024  Default: 0\n",
      "Optimize a model with 294 rows, 171 columns and 1219 nonzeros\n",
      "Variable types: 143 continuous, 28 integer (28 binary)\n",
      "Coefficient statistics:\n",
      "  Matrix range     [2e-04, 1e+01]\n",
      "  Objective range  [1e+00, 1e+00]\n",
      "  Bounds range     [1e-06, 5e+00]\n",
      "  RHS range        [1e-06, 1e+01]\n",
      "Presolve removed 102 rows and 64 columns\n",
      "Presolve time: 0.01s\n",
      "Presolved: 192 rows, 107 columns, 946 nonzeros\n",
      "Variable types: 84 continuous, 23 integer (23 binary)\n",
      "\n",
      "Root relaxation: objective 3.505895e+00, 101 iterations, 0.00 seconds\n",
      "\n",
      "    Nodes    |    Current Node    |     Objective Bounds      |     Work\n",
      " Expl Unexpl |  Obj  Depth IntInf | Incumbent    BestBd   Gap | It/Node Time\n",
      "\n",
      "     0     0    3.50589    0    2          -    3.50589      -     -    0s\n",
      "H    0     0                       0.2418560    3.50589  1350%     -    0s\n",
      "     0     0    3.50589    0    9    0.24186    3.50589  1350%     -    0s\n",
      "H    0     0                       0.3220395    3.50589   989%     -    0s\n",
      "H    0     0                       0.3816263    3.50589   819%     -    0s\n",
      "     0     0    2.70023    0    5    0.38163    2.70023   608%     -    0s\n",
      "     0     0    2.55419    0    5    0.38163    2.55419   569%     -    0s\n",
      "     0     0    2.55419    0    5    0.38163    2.55419   569%     -    0s\n",
      "     0     2    2.55419    0    5    0.38163    2.55419   569%     -    0s\n",
      "\n",
      "Cutting planes:\n",
      "  Gomory: 4\n",
      "  Cover: 4\n",
      "  Implied bound: 1\n",
      "  MIR: 6\n",
      "  Flow cover: 9\n",
      "\n",
      "Explored 189 nodes (4181 simplex iterations) in 0.16 seconds\n",
      "Thread count was 4 (of 8 available processors)\n",
      "\n",
      "Solution count 3: 0.381626 0.322039 0.241856 \n",
      "\n",
      "Optimal solution found (tolerance 1.00e-04)\n",
      "Best objective 3.816262894575e-01, best bound 3.816262894575e-01, gap 0.0000%\n"
     ]
    },
    {
     "data": {
      "text/plain": [
       "LipMIP Result: \n",
       "\tValue 0.382\n",
       "\tRuntime 0.183"
      ]
     },
     "execution_count": 11,
     "metadata": {},
     "output_type": "execute_result"
    }
   ],
   "source": [
    "# Next we consider the case for CrossLipschitz robustness \n",
    "# We can encode these with c_vectors in the set \n",
    "# {'crossLipschitz', 'targetCrossLipschitz', 'trueCrossLipschitz', 'trueTargetCrossLipschitz'}\n",
    "# where the parameters with the 'targeted' tag are for the targeted setting \n",
    "# and the 'true' tag is a slower but more precise cross-lipschitz norm \n",
    "cross_problem = LipMIP(network_simple, simple_domain, 'crossLipschitz', verbose=True) # c_vector -> 'l1Ball1'\n",
    "cross_problem.compute_max_lipschitz()       "
   ]
  }
 ],
 "metadata": {
  "kernelspec": {
   "display_name": "Python 3",
   "language": "python",
   "name": "python3"
  },
  "language_info": {
   "codemirror_mode": {
    "name": "ipython",
    "version": 3
   },
   "file_extension": ".py",
   "mimetype": "text/x-python",
   "name": "python",
   "nbconvert_exporter": "python",
   "pygments_lexer": "ipython3",
   "version": "3.6.9"
  }
 },
 "nbformat": 4,
 "nbformat_minor": 2
}
